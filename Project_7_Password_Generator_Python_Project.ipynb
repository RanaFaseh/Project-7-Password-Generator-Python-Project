{
  "nbformat": 4,
  "nbformat_minor": 0,
  "metadata": {
    "colab": {
      "provenance": [],
      "authorship_tag": "ABX9TyNb5YGtcA8sF9kCJiJmJP+n",
      "include_colab_link": true
    },
    "kernelspec": {
      "name": "python3",
      "display_name": "Python 3"
    },
    "language_info": {
      "name": "python"
    }
  },
  "cells": [
    {
      "cell_type": "markdown",
      "metadata": {
        "id": "view-in-github",
        "colab_type": "text"
      },
      "source": [
        "<a href=\"https://colab.research.google.com/github/RanaFaseh/Project-7-Password-Generator-Python-Project/blob/main/Project_7_Password_Generator_Python_Project.ipynb\" target=\"_parent\"><img src=\"https://colab.research.google.com/assets/colab-badge.svg\" alt=\"Open In Colab\"/></a>"
      ]
    },
    {
      "cell_type": "code",
      "execution_count": 2,
      "metadata": {
        "colab": {
          "base_uri": "https://localhost:8080/"
        },
        "id": "ar9vQiOFVHwY",
        "outputId": "280cc2ce-eefe-4623-ed79-d1d677afe6c8"
      },
      "outputs": [
        {
          "output_type": "stream",
          "name": "stdout",
          "text": [
            "Enter desired password length: 5\n",
            "Include uppercase letters? (y/n): hassan\n",
            "Include numbers? (y/n): 2182\n",
            "Include symbols? (y/n): !\n",
            "Generated password: hjive\n"
          ]
        }
      ],
      "source": [
        "# prompt: Project 7: Password Generator Python Project\n",
        "\n",
        "import random\n",
        "import string\n",
        "\n",
        "def generate_password(length=12, include_uppercase=True, include_numbers=True, include_symbols=True):\n",
        "  \"\"\"Generates a random password.\n",
        "\n",
        "  Args:\n",
        "    length: The desired length of the password.\n",
        "    include_uppercase: Whether to include uppercase letters.\n",
        "    include_numbers: Whether to include numbers.\n",
        "    include_symbols: Whether to include symbols.\n",
        "\n",
        "  Returns:\n",
        "    A randomly generated password.\n",
        "  \"\"\"\n",
        "\n",
        "  characters = string.ascii_lowercase\n",
        "  if include_uppercase:\n",
        "    characters += string.ascii_uppercase\n",
        "  if include_numbers:\n",
        "    characters += string.digits\n",
        "  if include_symbols:\n",
        "    characters += string.punctuation\n",
        "\n",
        "  password = ''.join(random.choice(characters) for i in range(length))\n",
        "  return password\n",
        "\n",
        "if __name__ == '__main__':\n",
        "  while True:  # Loop until a valid input is received\n",
        "    try:\n",
        "      password_length = int(input(\"Enter desired password length: \"))\n",
        "      break  # Exit loop if input is a valid integer\n",
        "    except ValueError:\n",
        "      print(\"Invalid input. Please enter a number for the password length.\")\n",
        "\n",
        "  use_uppercase = input(\"Include uppercase letters? (y/n): \").lower() == 'y'\n",
        "  use_numbers = input(\"Include numbers? (y/n): \").lower() == 'y'\n",
        "  use_symbols = input(\"Include symbols? (y/n): \").lower() == 'y'\n",
        "\n",
        "  password = generate_password(password_length, use_uppercase, use_numbers, use_symbols)\n",
        "  print(\"Generated password:\", password)"
      ]
    }
  ]
}